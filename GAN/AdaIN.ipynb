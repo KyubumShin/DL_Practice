{
  "nbformat": 4,
  "nbformat_minor": 0,
  "metadata": {
    "colab": {
      "name": "AdaIN.ipynb",
      "provenance": [],
      "authorship_tag": "ABX9TyNAMKbjHEfigYWa6LTQzDqj",
      "include_colab_link": true
    },
    "kernelspec": {
      "name": "python3",
      "display_name": "Python 3"
    },
    "language_info": {
      "name": "python"
    }
  },
  "cells": [
    {
      "cell_type": "markdown",
      "metadata": {
        "id": "view-in-github",
        "colab_type": "text"
      },
      "source": [
        "<a href=\"https://colab.research.google.com/github/KyubumShin/DL_Practice/blob/main/AdaIN.ipynb\" target=\"_parent\"><img src=\"https://colab.research.google.com/assets/colab-badge.svg\" alt=\"Open In Colab\"/></a>"
      ]
    },
    {
      "cell_type": "code",
      "metadata": {
        "id": "VaUpfR9srTxJ"
      },
      "source": [
        "import torch\n",
        "import torch.nn as nn\n",
        "\n",
        "from torchvision import transforms, models\n",
        "from torchvision.utils import save_image\n",
        "from torchsummary import summary\n",
        "\n",
        "from PIL import Image\n",
        "from IPython.display import Image as display_image"
      ],
      "execution_count": 4,
      "outputs": []
    },
    {
      "cell_type": "code",
      "metadata": {
        "id": "EKjZ662OF9Ry"
      },
      "source": [
        "decoder = nn.Sequential(\n",
        "    nn.ReflectionPad2d((1, 1, 1, 1)),\n",
        "    nn.Conv2d(512, 256, (3, 3)),\n",
        "    nn.ReLU(),\n",
        "    nn.Upsample(scale_factor=2, mode='nearest'),\n",
        "    nn.ReflectionPad2d((1, 1, 1, 1)),\n",
        "    nn.Conv2d(256, 256, (3, 3)),\n",
        "    nn.ReLU(),\n",
        "    nn.ReflectionPad2d((1, 1, 1, 1)),\n",
        "    nn.Conv2d(256, 256, (3, 3)),\n",
        "    nn.ReLU(),\n",
        "    nn.ReflectionPad2d((1, 1, 1, 1)),\n",
        "    nn.Conv2d(256, 256, (3, 3)),\n",
        "    nn.ReLU(),\n",
        "    nn.ReflectionPad2d((1, 1, 1, 1)),\n",
        "    nn.Conv2d(256, 128, (3, 3)),\n",
        "    nn.ReLU(),\n",
        "    nn.Upsample(scale_factor=2, mode='nearest'),\n",
        "    nn.ReflectionPad2d((1, 1, 1, 1)),\n",
        "    nn.Conv2d(128, 128, (3, 3)),\n",
        "    nn.ReLU(),\n",
        "    nn.ReflectionPad2d((1, 1, 1, 1)),\n",
        "    nn.Conv2d(128, 64, (3, 3)),\n",
        "    nn.ReLU(),\n",
        "    nn.Upsample(scale_factor=2, mode='nearest'),\n",
        "    nn.ReflectionPad2d((1, 1, 1, 1)),\n",
        "    nn.Conv2d(64, 64, (3, 3)),\n",
        "    nn.ReLU(),\n",
        "    nn.ReflectionPad2d((1, 1, 1, 1)),\n",
        "    nn.Conv2d(64, 3, (3, 3)),\n",
        ")"
      ],
      "execution_count": 9,
      "outputs": []
    },
    {
      "cell_type": "code",
      "metadata": {
        "id": "NM0dNAn-IHSJ"
      },
      "source": [
        "vgg = nn.Sequential(\n",
        "    nn.Conv2d(3, 3, (1, 1)),\n",
        "    nn.ReflectionPad2d((1, 1, 1, 1)),\n",
        "    nn.Conv2d(3, 64, (3, 3)),\n",
        "    nn.ReLU(),  # relu1-1\n",
        "    nn.ReflectionPad2d((1, 1, 1, 1)),\n",
        "    nn.Conv2d(64, 64, (3, 3)),\n",
        "    nn.ReLU(),  # relu1-2\n",
        "    nn.MaxPool2d((2, 2), (2, 2), (0, 0), ceil_mode=True),\n",
        "    nn.ReflectionPad2d((1, 1, 1, 1)),\n",
        "    nn.Conv2d(64, 128, (3, 3)),\n",
        "    nn.ReLU(),  # relu2-1\n",
        "    nn.ReflectionPad2d((1, 1, 1, 1)),\n",
        "    nn.Conv2d(128, 128, (3, 3)),\n",
        "    nn.ReLU(),  # relu2-2\n",
        "    nn.MaxPool2d((2, 2), (2, 2), (0, 0), ceil_mode=True),\n",
        "    nn.ReflectionPad2d((1, 1, 1, 1)),\n",
        "    nn.Conv2d(128, 256, (3, 3)),\n",
        "    nn.ReLU(),  # relu3-1\n",
        "    nn.ReflectionPad2d((1, 1, 1, 1)),\n",
        "    nn.Conv2d(256, 256, (3, 3)),\n",
        "    nn.ReLU(),  # relu3-2\n",
        "    nn.ReflectionPad2d((1, 1, 1, 1)),\n",
        "    nn.Conv2d(256, 256, (3, 3)),\n",
        "    nn.ReLU(),  # relu3-3\n",
        "    nn.ReflectionPad2d((1, 1, 1, 1)),\n",
        "    nn.Conv2d(256, 256, (3, 3)),\n",
        "    nn.ReLU(),  # relu3-4\n",
        "    nn.MaxPool2d((2, 2), (2, 2), (0, 0), ceil_mode=True),\n",
        "    nn.ReflectionPad2d((1, 1, 1, 1)),\n",
        "    nn.Conv2d(256, 512, (3, 3)),\n",
        "    nn.ReLU(),  # relu4-1, this is the last layer used\n",
        "    nn.ReflectionPad2d((1, 1, 1, 1)),\n",
        "    nn.Conv2d(512, 512, (3, 3)),\n",
        "    nn.ReLU(),  # relu4-2\n",
        "    nn.ReflectionPad2d((1, 1, 1, 1)),\n",
        "    nn.Conv2d(512, 512, (3, 3)),\n",
        "    nn.ReLU(),  # relu4-3\n",
        "    nn.ReflectionPad2d((1, 1, 1, 1)),\n",
        "    nn.Conv2d(512, 512, (3, 3)),\n",
        "    nn.ReLU(),  # relu4-4\n",
        "    nn.MaxPool2d((2, 2), (2, 2), (0, 0), ceil_mode=True),\n",
        "    nn.ReflectionPad2d((1, 1, 1, 1)),\n",
        "    nn.Conv2d(512, 512, (3, 3)),\n",
        "    nn.ReLU(),  # relu5-1\n",
        "    nn.ReflectionPad2d((1, 1, 1, 1)),\n",
        "    nn.Conv2d(512, 512, (3, 3)),\n",
        "    nn.ReLU(),  # relu5-2\n",
        "    nn.ReflectionPad2d((1, 1, 1, 1)),\n",
        "    nn.Conv2d(512, 512, (3, 3)),\n",
        "    nn.ReLU(),  # relu5-3\n",
        "    nn.ReflectionPad2d((1, 1, 1, 1)),\n",
        "    nn.Conv2d(512, 512, (3, 3)),\n",
        "    nn.ReLU()  # relu5-4\n",
        ")"
      ],
      "execution_count": 10,
      "outputs": []
    },
    {
      "cell_type": "code",
      "metadata": {
        "id": "OE2Ujnnl8SJb"
      },
      "source": [
        "class AdaIN():\n",
        "    def __init__(self, eps = 1e-5):\n",
        "        self.eps = eps\n",
        "    # 평균과 표준편차 계산함수\n",
        "    def calc_mean_std(feat):\n",
        "        size = feat.size()\n",
        "        assert (len(size)) == 4)\n",
        "        N, C = size[:2]\n",
        "        feat_var = feat.view(N,C, -1).var(dim=2) + self.eps\n",
        "        feat_mean = feat,view(N, C, -1).mean(dim=2).view(N,C,1,1)\n",
        "    def ada_IN(content_feat, style_feat):\n",
        "        assert (content_feat.size()[:2] == style_feat.size()[:2])\n",
        "        size = content_feat.size()\n",
        "        style_mean, style_std = calc_mean_std(style_feat)\n",
        "        content_mean, content_std = calc_mean_std(content_feat)\n",
        "        normalized_feat = (content_feat - content_mean.expand(size)) / content_std.expand(size)\n",
        "        return normalized_feat * style_std + style_mean"
      ],
      "execution_count": null,
      "outputs": []
    },
    {
      "cell_type": "markdown",
      "metadata": {
        "id": "ud6KLxFGCMzm"
      },
      "source": [
        "\n",
        "![image.png](data:image/png;base64,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)"
      ]
    },
    {
      "cell_type": "code",
      "metadata": {
        "id": "-zgfyt_LCNwn"
      },
      "source": [
        "class Net(nn.Module):\n",
        "    def __init__(self, encoder, decoder):\n",
        "        super(Net, self).__init__()\n",
        "        enc_layers = list(encoder.children())\n",
        "        self.enc_1 = nn.Sequential(*enc_layers[:4])  # input -> relu1_1\n",
        "        self.enc_2 = nn.Sequential(*enc_layers[4:11])  # relu1_1 -> relu2_1\n",
        "        self.enc_3 = nn.Sequential(*enc_layers[11:18])  # relu2_1 -> relu3_1\n",
        "        self.enc_4 = nn.Sequential(*enc_layers[18:31])  # relu3_1 -> relu4_1\n",
        "        self.decoder = decoder\n",
        "        self.mse_loss = nn.MSELoss()\n",
        "\n",
        "        # fix the encoder\n",
        "        for name in ['enc_1', 'enc_2', 'enc_3', 'enc_4']:\n",
        "            for param in getattr(self, name).parameters():\n",
        "                param.requires_grad = False"
      ],
      "execution_count": null,
      "outputs": []
    }
  ]
}