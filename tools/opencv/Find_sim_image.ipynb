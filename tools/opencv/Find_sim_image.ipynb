{
 "cells": [
  {
   "cell_type": "code",
   "execution_count": 1,
   "id": "7d43f646-62d1-424e-a49e-c7a8bde0f881",
   "metadata": {},
   "outputs": [],
   "source": [
    "import cv2\n",
    "import pandas as pd\n",
    "import numpy as np\n",
    "import os\n",
    "import matplotlib.pyplot as plt\n",
    "from tqdm import tqdm"
   ]
  },
  {
   "cell_type": "code",
   "execution_count": 2,
   "id": "669c50d1-b8c0-4698-855c-99af5256abe7",
   "metadata": {},
   "outputs": [],
   "source": [
    "data_dir = './dataset/train/'\n",
    "dataset = pd.read_csv('./dataset/train.csv')"
   ]
  },
  {
   "cell_type": "code",
   "execution_count": null,
   "id": "e1f2cfeb-cfde-4839-adc3-a9583945313b",
   "metadata": {},
   "outputs": [],
   "source": [
    "dataset['image_size'] = dataset['Id'].apply(lambda image_id : cv2.imread(os.path.join(data_dir, image_id + '.jpg')).shape[:2])\n",
    "dataset['image_total_size'] = dataset['image_size'].apply(lambda x: x[0] * x[1])\n",
    "dataset = dataset.drop(\"Pawpularity\", axis=1)"
   ]
  },
  {
   "cell_type": "code",
   "execution_count": 5,
   "id": "d4e8aa35-3d6f-4553-a83e-2afc7c5c7f89",
   "metadata": {},
   "outputs": [],
   "source": [
    "def img2hash(img):\n",
    "    gray = cv2.cvtColor(img, cv2.COLOR_BGR2GRAY)\n",
    "    gray = cv2.resize(gray, (16, 16))\n",
    "    avg = gray.mean()\n",
    "    bi = 1 * (gray > avg)\n",
    "    return bi\n",
    "\n",
    "def hamming_distance(a, b):\n",
    "    a = a.reshape(1,-1)\n",
    "    b = b.reshape(1,-1)\n",
    "    # 같은 자리의 값이 서로 다른 것들의 합\n",
    "    distance = (a !=b).sum()\n",
    "    return distance"
   ]
  },
  {
   "cell_type": "code",
   "execution_count": null,
   "id": "38a3ab54-b6f9-4db6-b505-085eefb18655",
   "metadata": {},
   "outputs": [],
   "source": [
    "same_pic = []\n",
    "pbar = tqdm(dataset.iterrows(), total=len(dataset), desc='test', mininterval=5)\n",
    "for index, data in pbar:\n",
    "    for index2, data2 in dataset[index+1:].iterrows():\n",
    "        if np.all(data.drop('Id') == data2.drop('Id')):\n",
    "            img = cv2.imread(os.path.join(data_dir, data['Id'] + '.jpg'))\n",
    "            img_hash = img2hash(img)\n",
    "            img2 = cv2.imread(os.path.join(data_dir, data2['Id'] + '.jpg'))\n",
    "            img2_hash = img2hash(img2)\n",
    "            dist = hamming_distance(img_hash, img2_hash)\n",
    "            if dist == 0:\n",
    "                same_pic.append((data['Id'], data2['Id']))"
   ]
  },
  {
   "cell_type": "code",
   "execution_count": null,
   "id": "aad314b1-d9da-437b-ada3-f2d4c49e6299",
   "metadata": {},
   "outputs": [],
   "source": []
  }
 ],
 "metadata": {
  "kernelspec": {
   "display_name": "Python 3 (ipykernel)",
   "language": "python",
   "name": "python3"
  },
  "language_info": {
   "codemirror_mode": {
    "name": "ipython",
    "version": 3
   },
   "file_extension": ".py",
   "mimetype": "text/x-python",
   "name": "python",
   "nbconvert_exporter": "python",
   "pygments_lexer": "ipython3",
   "version": "3.8.8"
  }
 },
 "nbformat": 4,
 "nbformat_minor": 5
}
